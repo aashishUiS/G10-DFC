{
  "nbformat": 4,
  "nbformat_minor": 0,
  "metadata": {
    "colab": {
      "provenance": []
    },
    "kernelspec": {
      "name": "python3",
      "display_name": "Python 3"
    },
    "language_info": {
      "name": "python"
    },
    "accelerator": "GPU",
    "gpuClass": "standard"
  },
  "cells": [
    {
      "cell_type": "code",
      "execution_count": null,
      "metadata": {
        "colab": {
          "base_uri": "https://localhost:8080/"
        },
        "id": "EBxS83g2W1zM",
        "outputId": "d48c2f22-9e3f-485b-f9fb-f44d3a6fa9b7"
      },
      "outputs": [
        {
          "output_type": "stream",
          "name": "stdout",
          "text": [
            "Looking in indexes: https://pypi.org/simple, https://us-python.pkg.dev/colab-wheels/public/simple/\n",
            "Requirement already satisfied: tensorflow_hub in /usr/local/lib/python3.9/dist-packages (0.13.0)\n",
            "Requirement already satisfied: protobuf>=3.19.6 in /usr/local/lib/python3.9/dist-packages (from tensorflow_hub) (3.20.3)\n",
            "Requirement already satisfied: numpy>=1.12.0 in /usr/local/lib/python3.9/dist-packages (from tensorflow_hub) (1.22.4)\n",
            "Looking in indexes: https://pypi.org/simple, https://us-python.pkg.dev/colab-wheels/public/simple/\n",
            "Requirement already satisfied: tensorflow_text in /usr/local/lib/python3.9/dist-packages (2.12.1)\n",
            "Requirement already satisfied: tensorflow<2.13,>=2.12.0 in /usr/local/lib/python3.9/dist-packages (from tensorflow_text) (2.12.0)\n",
            "Requirement already satisfied: tensorflow-hub>=0.8.0 in /usr/local/lib/python3.9/dist-packages (from tensorflow_text) (0.13.0)\n",
            "Requirement already satisfied: google-pasta>=0.1.1 in /usr/local/lib/python3.9/dist-packages (from tensorflow<2.13,>=2.12.0->tensorflow_text) (0.2.0)\n",
            "Requirement already satisfied: tensorflow-estimator<2.13,>=2.12.0 in /usr/local/lib/python3.9/dist-packages (from tensorflow<2.13,>=2.12.0->tensorflow_text) (2.12.0)\n",
            "Requirement already satisfied: tensorflow-io-gcs-filesystem>=0.23.1 in /usr/local/lib/python3.9/dist-packages (from tensorflow<2.13,>=2.12.0->tensorflow_text) (0.32.0)\n",
            "Requirement already satisfied: astunparse>=1.6.0 in /usr/local/lib/python3.9/dist-packages (from tensorflow<2.13,>=2.12.0->tensorflow_text) (1.6.3)\n",
            "Requirement already satisfied: opt-einsum>=2.3.2 in /usr/local/lib/python3.9/dist-packages (from tensorflow<2.13,>=2.12.0->tensorflow_text) (3.3.0)\n",
            "Requirement already satisfied: grpcio<2.0,>=1.24.3 in /usr/local/lib/python3.9/dist-packages (from tensorflow<2.13,>=2.12.0->tensorflow_text) (1.53.0)\n",
            "Requirement already satisfied: six>=1.12.0 in /usr/local/lib/python3.9/dist-packages (from tensorflow<2.13,>=2.12.0->tensorflow_text) (1.16.0)\n",
            "Requirement already satisfied: typing-extensions>=3.6.6 in /usr/local/lib/python3.9/dist-packages (from tensorflow<2.13,>=2.12.0->tensorflow_text) (4.5.0)\n",
            "Requirement already satisfied: wrapt<1.15,>=1.11.0 in /usr/local/lib/python3.9/dist-packages (from tensorflow<2.13,>=2.12.0->tensorflow_text) (1.14.1)\n",
            "Requirement already satisfied: termcolor>=1.1.0 in /usr/local/lib/python3.9/dist-packages (from tensorflow<2.13,>=2.12.0->tensorflow_text) (2.2.0)\n",
            "Requirement already satisfied: numpy<1.24,>=1.22 in /usr/local/lib/python3.9/dist-packages (from tensorflow<2.13,>=2.12.0->tensorflow_text) (1.22.4)\n",
            "Requirement already satisfied: packaging in /usr/local/lib/python3.9/dist-packages (from tensorflow<2.13,>=2.12.0->tensorflow_text) (23.1)\n",
            "Requirement already satisfied: tensorboard<2.13,>=2.12 in /usr/local/lib/python3.9/dist-packages (from tensorflow<2.13,>=2.12.0->tensorflow_text) (2.12.2)\n",
            "Requirement already satisfied: protobuf!=4.21.0,!=4.21.1,!=4.21.2,!=4.21.3,!=4.21.4,!=4.21.5,<5.0.0dev,>=3.20.3 in /usr/local/lib/python3.9/dist-packages (from tensorflow<2.13,>=2.12.0->tensorflow_text) (3.20.3)\n",
            "Requirement already satisfied: gast<=0.4.0,>=0.2.1 in /usr/local/lib/python3.9/dist-packages (from tensorflow<2.13,>=2.12.0->tensorflow_text) (0.4.0)\n",
            "Requirement already satisfied: absl-py>=1.0.0 in /usr/local/lib/python3.9/dist-packages (from tensorflow<2.13,>=2.12.0->tensorflow_text) (1.4.0)\n",
            "Requirement already satisfied: libclang>=13.0.0 in /usr/local/lib/python3.9/dist-packages (from tensorflow<2.13,>=2.12.0->tensorflow_text) (16.0.0)\n",
            "Requirement already satisfied: keras<2.13,>=2.12.0 in /usr/local/lib/python3.9/dist-packages (from tensorflow<2.13,>=2.12.0->tensorflow_text) (2.12.0)\n",
            "Requirement already satisfied: h5py>=2.9.0 in /usr/local/lib/python3.9/dist-packages (from tensorflow<2.13,>=2.12.0->tensorflow_text) (3.8.0)\n",
            "Requirement already satisfied: jax>=0.3.15 in /usr/local/lib/python3.9/dist-packages (from tensorflow<2.13,>=2.12.0->tensorflow_text) (0.4.8)\n",
            "Requirement already satisfied: setuptools in /usr/local/lib/python3.9/dist-packages (from tensorflow<2.13,>=2.12.0->tensorflow_text) (67.6.1)\n",
            "Requirement already satisfied: flatbuffers>=2.0 in /usr/local/lib/python3.9/dist-packages (from tensorflow<2.13,>=2.12.0->tensorflow_text) (23.3.3)\n",
            "Requirement already satisfied: wheel<1.0,>=0.23.0 in /usr/local/lib/python3.9/dist-packages (from astunparse>=1.6.0->tensorflow<2.13,>=2.12.0->tensorflow_text) (0.40.0)\n",
            "Requirement already satisfied: ml-dtypes>=0.0.3 in /usr/local/lib/python3.9/dist-packages (from jax>=0.3.15->tensorflow<2.13,>=2.12.0->tensorflow_text) (0.1.0)\n",
            "Requirement already satisfied: scipy>=1.7 in /usr/local/lib/python3.9/dist-packages (from jax>=0.3.15->tensorflow<2.13,>=2.12.0->tensorflow_text) (1.10.1)\n",
            "Requirement already satisfied: requests<3,>=2.21.0 in /usr/local/lib/python3.9/dist-packages (from tensorboard<2.13,>=2.12->tensorflow<2.13,>=2.12.0->tensorflow_text) (2.27.1)\n",
            "Requirement already satisfied: tensorboard-data-server<0.8.0,>=0.7.0 in /usr/local/lib/python3.9/dist-packages (from tensorboard<2.13,>=2.12->tensorflow<2.13,>=2.12.0->tensorflow_text) (0.7.0)\n",
            "Requirement already satisfied: tensorboard-plugin-wit>=1.6.0 in /usr/local/lib/python3.9/dist-packages (from tensorboard<2.13,>=2.12->tensorflow<2.13,>=2.12.0->tensorflow_text) (1.8.1)\n",
            "Requirement already satisfied: google-auth-oauthlib<1.1,>=0.5 in /usr/local/lib/python3.9/dist-packages (from tensorboard<2.13,>=2.12->tensorflow<2.13,>=2.12.0->tensorflow_text) (1.0.0)\n",
            "Requirement already satisfied: werkzeug>=1.0.1 in /usr/local/lib/python3.9/dist-packages (from tensorboard<2.13,>=2.12->tensorflow<2.13,>=2.12.0->tensorflow_text) (2.2.3)\n",
            "Requirement already satisfied: markdown>=2.6.8 in /usr/local/lib/python3.9/dist-packages (from tensorboard<2.13,>=2.12->tensorflow<2.13,>=2.12.0->tensorflow_text) (3.4.3)\n",
            "Requirement already satisfied: google-auth<3,>=1.6.3 in /usr/local/lib/python3.9/dist-packages (from tensorboard<2.13,>=2.12->tensorflow<2.13,>=2.12.0->tensorflow_text) (2.17.3)\n",
            "Requirement already satisfied: rsa<5,>=3.1.4 in /usr/local/lib/python3.9/dist-packages (from google-auth<3,>=1.6.3->tensorboard<2.13,>=2.12->tensorflow<2.13,>=2.12.0->tensorflow_text) (4.9)\n",
            "Requirement already satisfied: pyasn1-modules>=0.2.1 in /usr/local/lib/python3.9/dist-packages (from google-auth<3,>=1.6.3->tensorboard<2.13,>=2.12->tensorflow<2.13,>=2.12.0->tensorflow_text) (0.2.8)\n",
            "Requirement already satisfied: cachetools<6.0,>=2.0.0 in /usr/local/lib/python3.9/dist-packages (from google-auth<3,>=1.6.3->tensorboard<2.13,>=2.12->tensorflow<2.13,>=2.12.0->tensorflow_text) (5.3.0)\n",
            "Requirement already satisfied: requests-oauthlib>=0.7.0 in /usr/local/lib/python3.9/dist-packages (from google-auth-oauthlib<1.1,>=0.5->tensorboard<2.13,>=2.12->tensorflow<2.13,>=2.12.0->tensorflow_text) (1.3.1)\n",
            "Requirement already satisfied: importlib-metadata>=4.4 in /usr/local/lib/python3.9/dist-packages (from markdown>=2.6.8->tensorboard<2.13,>=2.12->tensorflow<2.13,>=2.12.0->tensorflow_text) (6.4.1)\n",
            "Requirement already satisfied: charset-normalizer~=2.0.0 in /usr/local/lib/python3.9/dist-packages (from requests<3,>=2.21.0->tensorboard<2.13,>=2.12->tensorflow<2.13,>=2.12.0->tensorflow_text) (2.0.12)\n",
            "Requirement already satisfied: urllib3<1.27,>=1.21.1 in /usr/local/lib/python3.9/dist-packages (from requests<3,>=2.21.0->tensorboard<2.13,>=2.12->tensorflow<2.13,>=2.12.0->tensorflow_text) (1.26.15)\n",
            "Requirement already satisfied: idna<4,>=2.5 in /usr/local/lib/python3.9/dist-packages (from requests<3,>=2.21.0->tensorboard<2.13,>=2.12->tensorflow<2.13,>=2.12.0->tensorflow_text) (3.4)\n",
            "Requirement already satisfied: certifi>=2017.4.17 in /usr/local/lib/python3.9/dist-packages (from requests<3,>=2.21.0->tensorboard<2.13,>=2.12->tensorflow<2.13,>=2.12.0->tensorflow_text) (2022.12.7)\n",
            "Requirement already satisfied: MarkupSafe>=2.1.1 in /usr/local/lib/python3.9/dist-packages (from werkzeug>=1.0.1->tensorboard<2.13,>=2.12->tensorflow<2.13,>=2.12.0->tensorflow_text) (2.1.2)\n",
            "Requirement already satisfied: zipp>=0.5 in /usr/local/lib/python3.9/dist-packages (from importlib-metadata>=4.4->markdown>=2.6.8->tensorboard<2.13,>=2.12->tensorflow<2.13,>=2.12.0->tensorflow_text) (3.15.0)\n",
            "Requirement already satisfied: pyasn1<0.5.0,>=0.4.6 in /usr/local/lib/python3.9/dist-packages (from pyasn1-modules>=0.2.1->google-auth<3,>=1.6.3->tensorboard<2.13,>=2.12->tensorflow<2.13,>=2.12.0->tensorflow_text) (0.4.8)\n",
            "Requirement already satisfied: oauthlib>=3.0.0 in /usr/local/lib/python3.9/dist-packages (from requests-oauthlib>=0.7.0->google-auth-oauthlib<1.1,>=0.5->tensorboard<2.13,>=2.12->tensorflow<2.13,>=2.12.0->tensorflow_text) (3.2.2)\n"
          ]
        }
      ],
      "source": [
        "!pip install tensorflow_hub\n",
        "!pip install tensorflow_text"
      ]
    },
    {
      "cell_type": "code",
      "source": [
        "import tensorflow_hub as hub\n",
        "import tensorflow_text as text\n",
        "import pandas as pd"
      ],
      "metadata": {
        "id": "lgSKlMo5W3d7"
      },
      "execution_count": null,
      "outputs": []
    },
    {
      "cell_type": "code",
      "source": [
        "from google.colab import drive\n",
        "drive.mount('/content/drive')\n"
      ],
      "metadata": {
        "colab": {
          "base_uri": "https://localhost:8080/"
        },
        "id": "fYy9VyQsXC94",
        "outputId": "f1cd01dd-27e4-495d-d71a-f0ddf44fd959"
      },
      "execution_count": null,
      "outputs": [
        {
          "output_type": "stream",
          "name": "stdout",
          "text": [
            "Drive already mounted at /content/drive; to attempt to forcibly remount, call drive.mount(\"/content/drive\", force_remount=True).\n"
          ]
        }
      ]
    },
    {
      "cell_type": "code",
      "source": [
        "df = pd.read_csv('drive/MyDrive/LSTM/merged.csv')"
      ],
      "metadata": {
        "id": "J71fYY1MXGPJ"
      },
      "execution_count": null,
      "outputs": []
    },
    {
      "cell_type": "code",
      "source": [
        "# Use the bert preprocesser and bert encoder from tensorflow_hub \n",
        "bert_preprocess = hub.KerasLayer(\"https://tfhub.dev/tensorflow/bert_en_uncased_preprocess/3\") \n",
        "bert_encoder = hub.KerasLayer('https://tfhub.dev/tensorflow/bert_en_uncased_L-12_H-768_A-12/4')"
      ],
      "metadata": {
        "id": "QzZp8v36W8A1"
      },
      "execution_count": null,
      "outputs": []
    },
    {
      "cell_type": "code",
      "source": [
        "df.head()"
      ],
      "metadata": {
        "colab": {
          "base_uri": "https://localhost:8080/",
          "height": 206
        },
        "id": "igggb69dXRfA",
        "outputId": "44468517-3d46-4c8d-bd84-6e907cf178f0"
      },
      "execution_count": null,
      "outputs": [
        {
          "output_type": "execute_result",
          "data": {
            "text/plain": [
              "   Unnamed: 0 date_commenced  \\\n",
              "0           0     1984-10-07   \n",
              "1           1     1996-10-16   \n",
              "2           2     1984-10-21   \n",
              "3           3     2012-10-03   \n",
              "4           4     2016-10-09   \n",
              "\n",
              "                                               claim  verdict  \n",
              "0               question agriculture came minute ago        0  \n",
              "1  instead federal government tax credit pick cos...        1  \n",
              "2                             give demonstration say        1  \n",
              "3  used consult business excuse hospital health c...        0  \n",
              "4                  united state united state senator        0  "
            ],
            "text/html": [
              "\n",
              "  <div id=\"df-d7b2021c-95a3-4983-a0d8-14e3258a181d\">\n",
              "    <div class=\"colab-df-container\">\n",
              "      <div>\n",
              "<style scoped>\n",
              "    .dataframe tbody tr th:only-of-type {\n",
              "        vertical-align: middle;\n",
              "    }\n",
              "\n",
              "    .dataframe tbody tr th {\n",
              "        vertical-align: top;\n",
              "    }\n",
              "\n",
              "    .dataframe thead th {\n",
              "        text-align: right;\n",
              "    }\n",
              "</style>\n",
              "<table border=\"1\" class=\"dataframe\">\n",
              "  <thead>\n",
              "    <tr style=\"text-align: right;\">\n",
              "      <th></th>\n",
              "      <th>Unnamed: 0</th>\n",
              "      <th>date_commenced</th>\n",
              "      <th>claim</th>\n",
              "      <th>verdict</th>\n",
              "    </tr>\n",
              "  </thead>\n",
              "  <tbody>\n",
              "    <tr>\n",
              "      <th>0</th>\n",
              "      <td>0</td>\n",
              "      <td>1984-10-07</td>\n",
              "      <td>question agriculture came minute ago</td>\n",
              "      <td>0</td>\n",
              "    </tr>\n",
              "    <tr>\n",
              "      <th>1</th>\n",
              "      <td>1</td>\n",
              "      <td>1996-10-16</td>\n",
              "      <td>instead federal government tax credit pick cos...</td>\n",
              "      <td>1</td>\n",
              "    </tr>\n",
              "    <tr>\n",
              "      <th>2</th>\n",
              "      <td>2</td>\n",
              "      <td>1984-10-21</td>\n",
              "      <td>give demonstration say</td>\n",
              "      <td>1</td>\n",
              "    </tr>\n",
              "    <tr>\n",
              "      <th>3</th>\n",
              "      <td>3</td>\n",
              "      <td>2012-10-03</td>\n",
              "      <td>used consult business excuse hospital health c...</td>\n",
              "      <td>0</td>\n",
              "    </tr>\n",
              "    <tr>\n",
              "      <th>4</th>\n",
              "      <td>4</td>\n",
              "      <td>2016-10-09</td>\n",
              "      <td>united state united state senator</td>\n",
              "      <td>0</td>\n",
              "    </tr>\n",
              "  </tbody>\n",
              "</table>\n",
              "</div>\n",
              "      <button class=\"colab-df-convert\" onclick=\"convertToInteractive('df-d7b2021c-95a3-4983-a0d8-14e3258a181d')\"\n",
              "              title=\"Convert this dataframe to an interactive table.\"\n",
              "              style=\"display:none;\">\n",
              "        \n",
              "  <svg xmlns=\"http://www.w3.org/2000/svg\" height=\"24px\"viewBox=\"0 0 24 24\"\n",
              "       width=\"24px\">\n",
              "    <path d=\"M0 0h24v24H0V0z\" fill=\"none\"/>\n",
              "    <path d=\"M18.56 5.44l.94 2.06.94-2.06 2.06-.94-2.06-.94-.94-2.06-.94 2.06-2.06.94zm-11 1L8.5 8.5l.94-2.06 2.06-.94-2.06-.94L8.5 2.5l-.94 2.06-2.06.94zm10 10l.94 2.06.94-2.06 2.06-.94-2.06-.94-.94-2.06-.94 2.06-2.06.94z\"/><path d=\"M17.41 7.96l-1.37-1.37c-.4-.4-.92-.59-1.43-.59-.52 0-1.04.2-1.43.59L10.3 9.45l-7.72 7.72c-.78.78-.78 2.05 0 2.83L4 21.41c.39.39.9.59 1.41.59.51 0 1.02-.2 1.41-.59l7.78-7.78 2.81-2.81c.8-.78.8-2.07 0-2.86zM5.41 20L4 18.59l7.72-7.72 1.47 1.35L5.41 20z\"/>\n",
              "  </svg>\n",
              "      </button>\n",
              "      \n",
              "  <style>\n",
              "    .colab-df-container {\n",
              "      display:flex;\n",
              "      flex-wrap:wrap;\n",
              "      gap: 12px;\n",
              "    }\n",
              "\n",
              "    .colab-df-convert {\n",
              "      background-color: #E8F0FE;\n",
              "      border: none;\n",
              "      border-radius: 50%;\n",
              "      cursor: pointer;\n",
              "      display: none;\n",
              "      fill: #1967D2;\n",
              "      height: 32px;\n",
              "      padding: 0 0 0 0;\n",
              "      width: 32px;\n",
              "    }\n",
              "\n",
              "    .colab-df-convert:hover {\n",
              "      background-color: #E2EBFA;\n",
              "      box-shadow: 0px 1px 2px rgba(60, 64, 67, 0.3), 0px 1px 3px 1px rgba(60, 64, 67, 0.15);\n",
              "      fill: #174EA6;\n",
              "    }\n",
              "\n",
              "    [theme=dark] .colab-df-convert {\n",
              "      background-color: #3B4455;\n",
              "      fill: #D2E3FC;\n",
              "    }\n",
              "\n",
              "    [theme=dark] .colab-df-convert:hover {\n",
              "      background-color: #434B5C;\n",
              "      box-shadow: 0px 1px 3px 1px rgba(0, 0, 0, 0.15);\n",
              "      filter: drop-shadow(0px 1px 2px rgba(0, 0, 0, 0.3));\n",
              "      fill: #FFFFFF;\n",
              "    }\n",
              "  </style>\n",
              "\n",
              "      <script>\n",
              "        const buttonEl =\n",
              "          document.querySelector('#df-d7b2021c-95a3-4983-a0d8-14e3258a181d button.colab-df-convert');\n",
              "        buttonEl.style.display =\n",
              "          google.colab.kernel.accessAllowed ? 'block' : 'none';\n",
              "\n",
              "        async function convertToInteractive(key) {\n",
              "          const element = document.querySelector('#df-d7b2021c-95a3-4983-a0d8-14e3258a181d');\n",
              "          const dataTable =\n",
              "            await google.colab.kernel.invokeFunction('convertToInteractive',\n",
              "                                                     [key], {});\n",
              "          if (!dataTable) return;\n",
              "\n",
              "          const docLinkHtml = 'Like what you see? Visit the ' +\n",
              "            '<a target=\"_blank\" href=https://colab.research.google.com/notebooks/data_table.ipynb>data table notebook</a>'\n",
              "            + ' to learn more about interactive tables.';\n",
              "          element.innerHTML = '';\n",
              "          dataTable['output_type'] = 'display_data';\n",
              "          await google.colab.output.renderOutput(dataTable, element);\n",
              "          const docLink = document.createElement('div');\n",
              "          docLink.innerHTML = docLinkHtml;\n",
              "          element.appendChild(docLink);\n",
              "        }\n",
              "      </script>\n",
              "    </div>\n",
              "  </div>\n",
              "  "
            ]
          },
          "metadata": {},
          "execution_count": 42
        }
      ]
    },
    {
      "cell_type": "code",
      "source": [
        "sampleText = (df.sample(1)['claim'])\n",
        "sampleText"
      ],
      "metadata": {
        "colab": {
          "base_uri": "https://localhost:8080/"
        },
        "id": "0R_aai7hXiBH",
        "outputId": "16c4eba1-7076-4038-cca7-48270cb2cefd"
      },
      "execution_count": null,
      "outputs": [
        {
          "output_type": "execute_result",
          "data": {
            "text/plain": [
              "951    yes steadfast resolved\n",
              "Name: claim, dtype: object"
            ]
          },
          "metadata": {},
          "execution_count": 43
        }
      ]
    },
    {
      "cell_type": "code",
      "source": [
        "## Preprocessing\n",
        "explwtext = bert_preprocess(sampleText)"
      ],
      "metadata": {
        "id": "zF7spO0gXp-7"
      },
      "execution_count": null,
      "outputs": []
    },
    {
      "cell_type": "code",
      "source": [
        "## Preprocessing Output Keys\n",
        "explwtext.keys()"
      ],
      "metadata": {
        "colab": {
          "base_uri": "https://localhost:8080/"
        },
        "id": "8WeMldsQXrrJ",
        "outputId": "70c390fe-63cb-450f-db8e-95e342a712e7"
      },
      "execution_count": null,
      "outputs": [
        {
          "output_type": "execute_result",
          "data": {
            "text/plain": [
              "dict_keys(['input_mask', 'input_type_ids', 'input_word_ids'])"
            ]
          },
          "metadata": {},
          "execution_count": 45
        }
      ]
    },
    {
      "cell_type": "code",
      "source": [
        "## Shape of the preprocessing output\n",
        "explwtext['input_word_ids'].shape"
      ],
      "metadata": {
        "colab": {
          "base_uri": "https://localhost:8080/"
        },
        "id": "GjL1GGgcXuQn",
        "outputId": "b146358a-fa48-4478-ce1b-f3fc3ea0fb08"
      },
      "execution_count": null,
      "outputs": [
        {
          "output_type": "execute_result",
          "data": {
            "text/plain": [
              "TensorShape([1, 128])"
            ]
          },
          "metadata": {},
          "execution_count": 46
        }
      ]
    },
    {
      "cell_type": "code",
      "source": [
        "## Encoding\n",
        "explwtext_encoded = bert_encoder(explwtext)"
      ],
      "metadata": {
        "id": "7kkatEU7XwOy"
      },
      "execution_count": null,
      "outputs": []
    },
    {
      "cell_type": "code",
      "source": [
        "## Encoding Output Keys\n",
        "explwtext_encoded.keys()"
      ],
      "metadata": {
        "colab": {
          "base_uri": "https://localhost:8080/"
        },
        "id": "VlILopDOXzcB",
        "outputId": "87b6abcc-9cd8-40a8-a1c7-678109af1b10"
      },
      "execution_count": null,
      "outputs": [
        {
          "output_type": "execute_result",
          "data": {
            "text/plain": [
              "dict_keys(['pooled_output', 'encoder_outputs', 'default', 'sequence_output'])"
            ]
          },
          "metadata": {},
          "execution_count": 48
        }
      ]
    },
    {
      "cell_type": "code",
      "source": [
        "## Pooled Output Shape\n",
        "explwtext_encoded['pooled_output'].shape"
      ],
      "metadata": {
        "colab": {
          "base_uri": "https://localhost:8080/"
        },
        "id": "GngyrDEdX1oE",
        "outputId": "3c78dea1-e011-4fd2-af8f-aba7761ef056"
      },
      "execution_count": null,
      "outputs": [
        {
          "output_type": "execute_result",
          "data": {
            "text/plain": [
              "TensorShape([1, 768])"
            ]
          },
          "metadata": {},
          "execution_count": 49
        }
      ]
    },
    {
      "cell_type": "code",
      "source": [
        "explwtext_encoded['pooled_output']"
      ],
      "metadata": {
        "colab": {
          "base_uri": "https://localhost:8080/"
        },
        "id": "vyMMCqirX3hC",
        "outputId": "1f18953d-920b-414f-d451-08e90cd23791"
      },
      "execution_count": null,
      "outputs": [
        {
          "output_type": "execute_result",
          "data": {
            "text/plain": [
              "<tf.Tensor: shape=(1, 768), dtype=float32, numpy=\n",
              "array([[-7.54281759e-01, -1.71476826e-01,  3.12872529e-01,\n",
              "         5.69465756e-01, -3.82532388e-01,  4.33725826e-02,\n",
              "         8.39616597e-01,  1.04624309e-01,  2.83761710e-01,\n",
              "        -9.99685228e-01,  1.68578148e-01,  1.79954052e-01,\n",
              "         9.58321333e-01, -1.46932915e-01,  8.60957086e-01,\n",
              "        -3.61702800e-01, -4.91867168e-03, -4.52985585e-01,\n",
              "         3.32038045e-01, -6.20542228e-01,  4.74458128e-01,\n",
              "         8.95793557e-01,  5.98501325e-01,  9.98673365e-02,\n",
              "         2.70828575e-01,  3.95924211e-01, -4.58270788e-01,\n",
              "         8.46739531e-01,  9.18225110e-01,  5.96549809e-01,\n",
              "        -4.96100903e-01,  9.12715569e-02, -9.68399346e-01,\n",
              "        -7.38415569e-02,  2.01899305e-01, -9.70418394e-01,\n",
              "         7.55489618e-02, -6.37693167e-01,  1.05962746e-01,\n",
              "         8.72271061e-02, -7.89022505e-01,  1.00911453e-01,\n",
              "         9.94939387e-01, -1.53874516e-01, -9.26887442e-04,\n",
              "        -2.42431492e-01, -9.99075890e-01,  1.45496383e-01,\n",
              "        -7.90962517e-01, -2.94909835e-01, -1.95843235e-01,\n",
              "        -4.62336361e-01,  7.74059072e-02,  2.51480371e-01,\n",
              "         2.85249084e-01,  3.59148383e-01, -1.61581919e-01,\n",
              "         7.34131485e-02, -6.44852966e-02, -3.80941808e-01,\n",
              "        -4.47064459e-01,  2.17435822e-01,  8.16226900e-02,\n",
              "        -8.28100801e-01, -2.32326314e-01, -4.08809215e-01,\n",
              "        -4.94232476e-02, -1.17798820e-01,  8.40950757e-02,\n",
              "        -1.53285816e-01,  7.41518557e-01,  9.51967910e-02,\n",
              "         3.32917094e-01, -7.22253323e-01, -4.66403127e-01,\n",
              "         6.06138399e-03, -3.83914053e-01,  9.99986947e-01,\n",
              "        -2.33272508e-01, -9.50480998e-01, -4.04688954e-01,\n",
              "        -2.94171870e-01,  2.67195642e-01,  6.58503711e-01,\n",
              "        -4.22823250e-01, -9.99906063e-01,  1.21648416e-01,\n",
              "         5.73434271e-02, -9.72578704e-01,  1.40967458e-01,\n",
              "         2.09830746e-01, -4.25326973e-02, -4.55704987e-01,\n",
              "         2.92582959e-01, -1.45995855e-01, -1.41936705e-01,\n",
              "        -1.86640918e-01,  3.84525865e-01, -1.35669068e-01,\n",
              "         1.08272195e-01,  1.17949191e-02, -1.32712528e-01,\n",
              "         9.89956632e-02, -2.34606802e-01,  5.30762784e-02,\n",
              "        -2.73098141e-01, -3.52878004e-01,  2.08524153e-01,\n",
              "        -3.32366526e-01,  5.28741956e-01,  2.10670844e-01,\n",
              "        -1.75142333e-01,  1.74185976e-01, -9.18018937e-01,\n",
              "         5.44610023e-01, -1.21375374e-01, -9.58556831e-01,\n",
              "        -3.32213849e-01, -9.70266461e-01,  5.80182910e-01,\n",
              "         9.49725658e-02, -2.86773741e-02,  9.04685974e-01,\n",
              "         4.62064952e-01,  1.22090444e-01,  6.31766841e-02,\n",
              "         4.17161286e-01, -9.99996722e-01, -2.88435996e-01,\n",
              "        -2.52940655e-01,  3.23560476e-01,  3.48179764e-03,\n",
              "        -9.49205160e-01, -9.10752892e-01,  3.76778066e-01,\n",
              "         9.11122680e-01,  1.93371344e-02,  9.91865337e-01,\n",
              "        -1.81404442e-01,  8.79216671e-01,  1.66268066e-01,\n",
              "        -7.44535103e-02, -2.91305691e-01, -2.83658445e-01,\n",
              "         3.04151952e-01,  3.04858536e-01, -5.24595678e-01,\n",
              "         1.24107555e-01,  2.78769229e-02, -1.21306345e-01,\n",
              "         5.04103005e-02, -1.68256909e-01,  2.40430117e-01,\n",
              "        -8.84819090e-01, -3.17458332e-01,  8.92312050e-01,\n",
              "         3.84321302e-01,  3.15907419e-01,  6.23914421e-01,\n",
              "        -8.46026912e-02, -2.79803276e-01,  7.32688487e-01,\n",
              "         1.57002151e-01,  2.75875032e-01,  2.11672243e-02,\n",
              "         2.88956136e-01, -8.49978626e-02,  4.01090831e-01,\n",
              "        -6.91041589e-01,  2.34044939e-01,  2.59979516e-01,\n",
              "        -1.02870695e-01,  2.72915870e-01, -9.44819987e-01,\n",
              "        -2.35078976e-01,  3.74670357e-01,  9.73005235e-01,\n",
              "         6.48101628e-01,  8.51766393e-02, -8.58927071e-02,\n",
              "        -1.37698799e-01,  1.67363048e-01, -8.89158845e-01,\n",
              "         9.42002058e-01, -7.98904523e-02,  1.78898320e-01,\n",
              "         2.50134379e-01, -2.67386109e-01, -7.53094375e-01,\n",
              "        -3.45534354e-01,  7.40440369e-01, -3.98745462e-02,\n",
              "        -7.15850532e-01,  1.17365122e-01, -4.06958312e-01,\n",
              "        -2.69934088e-01,  2.45142430e-01,  3.63322467e-01,\n",
              "        -1.51439652e-01, -3.31359059e-01,  8.07996988e-02,\n",
              "         8.49579632e-01,  9.25307691e-01,  6.53893769e-01,\n",
              "        -5.58064938e-01,  4.27519143e-01, -7.99116194e-01,\n",
              "        -2.55405813e-01,  4.37691472e-02,  1.56135380e-01,\n",
              "         1.69559978e-02,  9.79228020e-01,  4.68324870e-02,\n",
              "         8.94755218e-03, -8.76076639e-01, -9.62819278e-01,\n",
              "        -6.80667609e-02, -7.96157539e-01,  6.85388818e-02,\n",
              "        -5.85002303e-01,  1.61018193e-01,  5.96987903e-01,\n",
              "        -1.98759481e-01,  2.94989437e-01, -9.29656267e-01,\n",
              "        -6.85361207e-01,  2.56265849e-01, -1.62669614e-01,\n",
              "         2.54130363e-01, -1.29553720e-01,  3.13354164e-01,\n",
              "        -7.46893287e-02, -3.94317746e-01,  5.78756392e-01,\n",
              "         7.99919665e-01,  5.53980887e-01, -5.79768896e-01,\n",
              "         6.99639797e-01, -1.65833533e-01,  8.05842280e-01,\n",
              "        -4.57449585e-01,  9.45987880e-01,  8.24683625e-03,\n",
              "         2.89583951e-01, -8.51093471e-01,  3.01578701e-01,\n",
              "        -7.75328457e-01,  1.90888062e-01, -2.74898321e-03,\n",
              "        -5.66999853e-01, -2.37620547e-01,  2.99888164e-01,\n",
              "         1.14499502e-01,  7.69448996e-01, -4.11212981e-01,\n",
              "         9.79505479e-01, -2.95041829e-01, -8.96388471e-01,\n",
              "         3.30818594e-01,  2.85637863e-02, -9.66333091e-01,\n",
              "        -1.38646975e-01,  1.84750676e-01, -6.41677678e-01,\n",
              "        -2.48542488e-01, -2.71997958e-01, -8.78386557e-01,\n",
              "         7.70828247e-01,  8.45854729e-02,  9.57346141e-01,\n",
              "         1.00926287e-01, -8.49346876e-01, -1.34865016e-01,\n",
              "        -7.84150422e-01, -2.44572669e-01, -1.10342680e-02,\n",
              "         5.88101029e-01, -1.83773473e-01, -9.10059214e-01,\n",
              "         3.06352407e-01,  3.99247825e-01,  2.58585542e-01,\n",
              "         5.50803363e-01,  9.81324255e-01,  9.95049894e-01,\n",
              "         9.46163535e-01,  8.03241074e-01,  7.63849974e-01,\n",
              "        -6.68255746e-01,  1.61622509e-01,  9.99853730e-01,\n",
              "        -3.17718923e-01, -9.99756277e-01, -8.60608697e-01,\n",
              "        -3.93621922e-01,  2.51183838e-01, -9.99994159e-01,\n",
              "         8.60144943e-03,  1.24107845e-01, -8.24694037e-01,\n",
              "        -3.46574426e-01,  9.42377031e-01,  9.51251626e-01,\n",
              "        -9.99979198e-01,  7.65129089e-01,  8.75917971e-01,\n",
              "        -3.98105770e-01,  1.81594819e-01, -1.18662946e-01,\n",
              "         9.37193871e-01,  1.39538631e-01,  2.31730893e-01,\n",
              "        -5.28217405e-02,  1.61003813e-01,  1.09729052e-01,\n",
              "        -7.58601665e-01,  3.61711234e-01,  4.69852477e-01,\n",
              "         3.33955109e-01,  8.64916146e-02, -6.08116329e-01,\n",
              "        -8.40996325e-01, -1.16756096e-01, -1.50658619e-02,\n",
              "        -2.67877817e-01, -9.15914774e-01, -8.68258774e-02,\n",
              "        -2.45631501e-01,  5.49314141e-01, -1.08481534e-02,\n",
              "         9.89170074e-02, -6.76285684e-01,  9.01853889e-02,\n",
              "        -6.25257850e-01,  2.13866159e-01,  4.64672565e-01,\n",
              "        -8.80848050e-01, -4.75110084e-01, -2.88563482e-02,\n",
              "        -4.93856400e-01,  3.99344176e-01, -8.73005331e-01,\n",
              "         9.33937728e-01, -2.31039882e-01, -7.23662078e-02,\n",
              "         9.99982595e-01, -2.09798634e-01, -7.53323913e-01,\n",
              "         2.15364888e-01,  1.26984492e-02, -2.73056746e-01,\n",
              "         9.99957621e-01,  2.57633120e-01, -9.45659697e-01,\n",
              "        -3.33926082e-01,  5.41174784e-02, -2.17712298e-01,\n",
              "        -2.24177241e-01,  9.95712221e-01, -5.15883639e-02,\n",
              "         3.28780532e-01,  5.07663488e-01,  9.33995068e-01,\n",
              "        -9.71240819e-01,  1.31675109e-01, -8.59537542e-01,\n",
              "        -9.30324376e-01,  9.08415318e-01,  8.69240701e-01,\n",
              "         7.71651417e-02, -5.19818008e-01, -4.08509672e-02,\n",
              "         9.61289927e-02,  1.40411079e-01, -8.85588050e-01,\n",
              "         5.36709666e-01,  3.24573755e-01, -6.49293214e-02,\n",
              "         8.35135639e-01, -7.78821945e-01, -3.02989364e-01,\n",
              "         2.64017731e-01,  1.63045764e-01,  3.67184639e-01,\n",
              "        -2.32198268e-01,  3.96978289e-01, -1.56714022e-01,\n",
              "        -1.99982431e-02, -1.16542891e-01, -2.05093890e-01,\n",
              "        -9.27016795e-01, -1.22046219e-02,  9.99954998e-01,\n",
              "         1.68317035e-01, -4.84851986e-01, -1.62739195e-02,\n",
              "         9.89610516e-03, -4.15477306e-01,  1.66517377e-01,\n",
              "         2.09704638e-01, -1.88180208e-01, -7.66334474e-01,\n",
              "        -2.42752001e-01, -8.11880112e-01, -9.65034008e-01,\n",
              "         5.98545909e-01,  9.84679833e-02, -1.71510980e-01,\n",
              "         9.94034350e-01,  1.35322526e-01,  1.33286089e-01,\n",
              "        -3.65546286e-01,  1.15492001e-01,  1.19159194e-02,\n",
              "         4.05564636e-01, -4.30290192e-01,  9.39610720e-01,\n",
              "        -1.24605633e-01,  3.63108456e-01,  6.58130944e-01,\n",
              "         2.90929914e-01, -2.24498063e-01, -5.36458433e-01,\n",
              "        -5.26659265e-02, -8.44233274e-01,  9.92856994e-02,\n",
              "        -8.89594853e-01,  9.10002887e-01, -4.12948519e-01,\n",
              "         1.90873966e-01,  2.11402494e-02, -3.95801626e-02,\n",
              "         9.99978006e-01,  6.86165690e-02,  4.27029133e-01,\n",
              "        -2.89200485e-01,  7.15291500e-01, -6.10323071e-01,\n",
              "        -5.63059390e-01, -2.13396505e-01,  7.96506107e-02,\n",
              "         4.14600194e-01, -1.59879699e-01,  1.03905976e-01,\n",
              "        -9.27508235e-01, -3.12693745e-01, -4.62708585e-02,\n",
              "        -9.07700479e-01, -9.72342968e-01,  4.98304963e-01,\n",
              "         5.88223696e-01, -1.83808934e-02, -8.28778967e-02,\n",
              "        -4.75606024e-01, -4.73314822e-01,  1.02891237e-01,\n",
              "        -6.94361776e-02, -8.66086960e-01,  5.45928657e-01,\n",
              "        -1.15726374e-01,  3.52262497e-01, -1.29811168e-01,\n",
              "         3.17670971e-01, -3.96536678e-01,  7.59657502e-01,\n",
              "         5.61671376e-01,  3.22172552e-01, -1.69310421e-02,\n",
              "        -6.98864937e-01,  6.97911024e-01, -7.21248329e-01,\n",
              "         2.17005417e-01, -4.73104902e-02,  9.99991715e-01,\n",
              "        -2.92118132e-01, -1.33973420e-01,  6.26644850e-01,\n",
              "         4.07302558e-01, -4.51263227e-02,  1.25263959e-01,\n",
              "        -2.91322380e-01,  5.57315685e-02,  3.55505496e-01,\n",
              "         5.10445535e-01, -5.81072271e-01, -2.42474794e-01,\n",
              "         3.65769446e-01, -5.05046546e-01, -3.18597853e-01,\n",
              "         6.34052753e-01, -4.24424782e-02,  1.45690171e-02,\n",
              "         8.39702263e-02, -8.22609067e-02,  9.91917610e-01,\n",
              "        -9.23375711e-02, -1.48219233e-02, -3.25474888e-01,\n",
              "         4.28027213e-02, -1.30461842e-01, -3.63449246e-01,\n",
              "         9.99841332e-01,  2.48214364e-01, -2.22003967e-01,\n",
              "        -9.74957824e-01,  1.66779786e-01, -8.36101413e-01,\n",
              "         9.87134039e-01,  6.60430253e-01, -7.48624802e-01,\n",
              "         2.77220309e-01,  2.59797156e-01, -1.81527864e-02,\n",
              "         5.39436936e-01, -4.30274270e-02, -1.54958308e-01,\n",
              "         3.60810310e-02,  1.31551391e-02,  9.10258234e-01,\n",
              "        -2.98374176e-01, -9.15639400e-01, -4.38816845e-01,\n",
              "         1.42595246e-01, -8.91706467e-01,  7.87301302e-01,\n",
              "        -3.43373507e-01, -1.23991616e-01, -1.93386927e-01,\n",
              "         3.91633660e-01,  5.43230593e-01, -1.14534810e-01,\n",
              "        -9.45960522e-01, -1.14043243e-01, -9.06784236e-02,\n",
              "         9.19000864e-01, -4.20811540e-03, -3.41382116e-01,\n",
              "        -7.63154805e-01, -5.13168335e-01, -2.83840388e-01,\n",
              "         4.17999625e-01, -8.95162642e-01,  9.25035596e-01,\n",
              "        -9.52602983e-01,  2.23634899e-01,  9.99769330e-01,\n",
              "         1.72135219e-01, -6.70950890e-01,  3.07616405e-02,\n",
              "        -2.44759843e-01,  6.18038476e-02,  3.13663453e-01,\n",
              "         4.75460529e-01, -8.95461500e-01, -8.45680386e-02,\n",
              "        -8.53701774e-03,  1.71366096e-01, -1.21906333e-01,\n",
              "         2.70414889e-01,  5.82133710e-01,  1.14462860e-01,\n",
              "        -2.63230830e-01, -3.59167427e-01,  4.56481911e-02,\n",
              "         2.55358815e-01,  6.32028341e-01, -2.30955794e-01,\n",
              "        -2.33613662e-02,  4.67204265e-02,  4.83273193e-02,\n",
              "        -8.41568708e-01, -1.09683082e-01, -2.75042746e-02,\n",
              "        -9.30104733e-01,  4.47243243e-01, -9.99986827e-01,\n",
              "        -4.16156143e-01, -4.81555849e-01, -1.70184925e-01,\n",
              "         6.59843802e-01, -1.34211823e-01, -5.64612001e-02,\n",
              "        -5.96144497e-01,  3.99399489e-01,  8.57105851e-01,\n",
              "         6.68891490e-01, -7.27795586e-02,  1.22528501e-01,\n",
              "        -5.93341470e-01,  1.40284887e-02,  3.07987388e-02,\n",
              "         1.09122291e-01,  7.87677914e-02,  6.62164450e-01,\n",
              "        -3.63950171e-02,  9.99994218e-01, -3.43401134e-02,\n",
              "        -3.44105721e-01, -9.16319966e-01,  1.54438853e-01,\n",
              "        -1.51619345e-01,  9.97206986e-01, -7.59060919e-01,\n",
              "        -8.71930420e-01,  2.23141268e-01, -2.71187007e-01,\n",
              "        -7.24499941e-01,  1.71853721e-01, -1.43872410e-01,\n",
              "        -4.47783768e-01,  5.72470613e-02,  8.93818319e-01,\n",
              "         7.35125661e-01, -3.47418100e-01,  2.75404036e-01,\n",
              "        -1.78664163e-01, -3.11505944e-01, -7.34997494e-03,\n",
              "        -4.35666323e-01,  9.64101434e-01,  1.56278178e-01,\n",
              "         7.37903476e-01,  5.56361914e-01, -9.58365295e-03,\n",
              "         9.12051618e-01,  9.52594802e-02,  4.55147415e-01,\n",
              "         5.34917824e-02,  9.99831378e-01,  1.20909706e-01,\n",
              "        -8.65061402e-01,  4.37037289e-01, -9.53453183e-01,\n",
              "        -5.87712526e-02, -8.91454399e-01,  9.87627432e-02,\n",
              "        -3.04601118e-02,  7.62612581e-01, -1.79186434e-01,\n",
              "         8.97991061e-01,  4.31185573e-01, -6.36589387e-03,\n",
              "         2.70737499e-01,  5.03109217e-01,  2.43008062e-01,\n",
              "        -8.30446064e-01, -9.61327076e-01, -9.64394867e-01,\n",
              "         1.36735499e-01, -3.58223110e-01, -1.29444031e-02,\n",
              "         1.84662387e-01,  5.96911013e-02,  1.95015937e-01,\n",
              "         1.93822220e-01, -9.99776840e-01,  8.31003606e-01,\n",
              "         2.78082013e-01, -2.54228771e-01,  9.13057446e-01,\n",
              "         8.90624896e-02,  7.59093836e-02,  1.32041872e-01,\n",
              "        -9.60211873e-01, -8.84616554e-01, -1.91979662e-01,\n",
              "        -1.85262233e-01,  7.03109145e-01,  5.00584126e-01,\n",
              "         7.57449448e-01,  2.51469284e-01, -3.41900736e-01,\n",
              "        -2.24700626e-02,  3.24233115e-01, -2.22489014e-02,\n",
              "        -9.77976382e-01,  2.73511887e-01,  2.84464240e-01,\n",
              "        -8.85565341e-01,  9.24642503e-01, -5.29055595e-01,\n",
              "        -1.76381275e-01,  5.44517696e-01,  3.59434962e-01,\n",
              "         8.45939696e-01,  6.62149727e-01,  3.73443514e-01,\n",
              "         5.51176220e-02,  3.65241289e-01,  7.92192042e-01,\n",
              "         9.08034027e-01,  9.76108491e-01,  2.01900765e-01,\n",
              "         6.62479997e-01,  4.45913583e-01,  2.39382431e-01,\n",
              "         4.54328388e-01, -8.81433427e-01, -1.96527783e-02,\n",
              "        -1.90808088e-01, -1.84181407e-02,  9.20568258e-02,\n",
              "        -1.20433003e-01, -8.76076579e-01,  6.24200284e-01,\n",
              "        -6.61135763e-02,  3.07298183e-01, -2.63502926e-01,\n",
              "         2.15321437e-01, -2.83805400e-01, -7.90045559e-02,\n",
              "        -6.56187296e-01, -3.11582625e-01,  4.23444778e-01,\n",
              "         1.15660802e-01,  8.39940310e-01,  8.12002122e-02,\n",
              "         4.17165197e-02, -4.91823435e-01, -1.20530352e-02,\n",
              "         3.28977257e-01, -8.50242674e-01,  8.09909165e-01,\n",
              "         2.26658322e-02,  3.80386770e-01, -3.65919024e-01,\n",
              "        -1.49421021e-01,  7.24668205e-01, -3.62594754e-01,\n",
              "        -2.33208910e-01, -1.56502351e-01, -5.26729941e-01,\n",
              "         7.92741895e-01, -8.16113651e-02, -3.16917419e-01,\n",
              "        -3.86430979e-01,  5.30794621e-01,  2.38998353e-01,\n",
              "         8.99297655e-01,  3.26888323e-01,  2.77053088e-01,\n",
              "         4.52973358e-02, -5.36295287e-02,  1.75142631e-01,\n",
              "        -1.39389530e-01, -9.99776602e-01,  2.65911132e-01,\n",
              "         3.29259425e-01, -1.62747040e-01,  1.07996494e-01,\n",
              "        -5.07580996e-01,  2.04103783e-01, -9.16237414e-01,\n",
              "        -1.12490289e-01, -3.06567401e-01, -3.65584791e-01,\n",
              "        -4.42009121e-01, -3.11442018e-01,  2.93845534e-01,\n",
              "         3.07222217e-01, -4.09632362e-02,  8.03220868e-01,\n",
              "         1.55199900e-01,  6.32120132e-01,  4.20610189e-01,\n",
              "         4.06650811e-01, -4.90189791e-01,  7.79292881e-01]], dtype=float32)>"
            ]
          },
          "metadata": {},
          "execution_count": 50
        }
      ]
    },
    {
      "cell_type": "code",
      "source": [
        "customText = [\"The area is concerned with Armies. It is a great pleasure.\", \"I am greatly surprised with this\"]\n",
        "exCText = bert_preprocess(customText)\n",
        "exCText"
      ],
      "metadata": {
        "colab": {
          "base_uri": "https://localhost:8080/"
        },
        "id": "R1oZDttlX5PO",
        "outputId": "06135707-7046-4a98-ce3b-b1ef584f684b"
      },
      "execution_count": null,
      "outputs": [
        {
          "output_type": "execute_result",
          "data": {
            "text/plain": [
              "{'input_mask': <tf.Tensor: shape=(2, 128), dtype=int32, numpy=\n",
              " array([[1, 1, 1, 1, 1, 1, 1, 1, 1, 1, 1, 1, 1, 1, 1, 0, 0, 0, 0, 0, 0, 0,\n",
              "         0, 0, 0, 0, 0, 0, 0, 0, 0, 0, 0, 0, 0, 0, 0, 0, 0, 0, 0, 0, 0, 0,\n",
              "         0, 0, 0, 0, 0, 0, 0, 0, 0, 0, 0, 0, 0, 0, 0, 0, 0, 0, 0, 0, 0, 0,\n",
              "         0, 0, 0, 0, 0, 0, 0, 0, 0, 0, 0, 0, 0, 0, 0, 0, 0, 0, 0, 0, 0, 0,\n",
              "         0, 0, 0, 0, 0, 0, 0, 0, 0, 0, 0, 0, 0, 0, 0, 0, 0, 0, 0, 0, 0, 0,\n",
              "         0, 0, 0, 0, 0, 0, 0, 0, 0, 0, 0, 0, 0, 0, 0, 0, 0, 0],\n",
              "        [1, 1, 1, 1, 1, 1, 1, 1, 0, 0, 0, 0, 0, 0, 0, 0, 0, 0, 0, 0, 0, 0,\n",
              "         0, 0, 0, 0, 0, 0, 0, 0, 0, 0, 0, 0, 0, 0, 0, 0, 0, 0, 0, 0, 0, 0,\n",
              "         0, 0, 0, 0, 0, 0, 0, 0, 0, 0, 0, 0, 0, 0, 0, 0, 0, 0, 0, 0, 0, 0,\n",
              "         0, 0, 0, 0, 0, 0, 0, 0, 0, 0, 0, 0, 0, 0, 0, 0, 0, 0, 0, 0, 0, 0,\n",
              "         0, 0, 0, 0, 0, 0, 0, 0, 0, 0, 0, 0, 0, 0, 0, 0, 0, 0, 0, 0, 0, 0,\n",
              "         0, 0, 0, 0, 0, 0, 0, 0, 0, 0, 0, 0, 0, 0, 0, 0, 0, 0]],\n",
              "       dtype=int32)>,\n",
              " 'input_type_ids': <tf.Tensor: shape=(2, 128), dtype=int32, numpy=\n",
              " array([[0, 0, 0, 0, 0, 0, 0, 0, 0, 0, 0, 0, 0, 0, 0, 0, 0, 0, 0, 0, 0, 0,\n",
              "         0, 0, 0, 0, 0, 0, 0, 0, 0, 0, 0, 0, 0, 0, 0, 0, 0, 0, 0, 0, 0, 0,\n",
              "         0, 0, 0, 0, 0, 0, 0, 0, 0, 0, 0, 0, 0, 0, 0, 0, 0, 0, 0, 0, 0, 0,\n",
              "         0, 0, 0, 0, 0, 0, 0, 0, 0, 0, 0, 0, 0, 0, 0, 0, 0, 0, 0, 0, 0, 0,\n",
              "         0, 0, 0, 0, 0, 0, 0, 0, 0, 0, 0, 0, 0, 0, 0, 0, 0, 0, 0, 0, 0, 0,\n",
              "         0, 0, 0, 0, 0, 0, 0, 0, 0, 0, 0, 0, 0, 0, 0, 0, 0, 0],\n",
              "        [0, 0, 0, 0, 0, 0, 0, 0, 0, 0, 0, 0, 0, 0, 0, 0, 0, 0, 0, 0, 0, 0,\n",
              "         0, 0, 0, 0, 0, 0, 0, 0, 0, 0, 0, 0, 0, 0, 0, 0, 0, 0, 0, 0, 0, 0,\n",
              "         0, 0, 0, 0, 0, 0, 0, 0, 0, 0, 0, 0, 0, 0, 0, 0, 0, 0, 0, 0, 0, 0,\n",
              "         0, 0, 0, 0, 0, 0, 0, 0, 0, 0, 0, 0, 0, 0, 0, 0, 0, 0, 0, 0, 0, 0,\n",
              "         0, 0, 0, 0, 0, 0, 0, 0, 0, 0, 0, 0, 0, 0, 0, 0, 0, 0, 0, 0, 0, 0,\n",
              "         0, 0, 0, 0, 0, 0, 0, 0, 0, 0, 0, 0, 0, 0, 0, 0, 0, 0]],\n",
              "       dtype=int32)>,\n",
              " 'input_word_ids': <tf.Tensor: shape=(2, 128), dtype=int32, numpy=\n",
              " array([[ 101, 1996, 2181, 2003, 4986, 2007, 8749, 1012, 2009, 2003, 1037,\n",
              "         2307, 5165, 1012,  102,    0,    0,    0,    0,    0,    0,    0,\n",
              "            0,    0,    0,    0,    0,    0,    0,    0,    0,    0,    0,\n",
              "            0,    0,    0,    0,    0,    0,    0,    0,    0,    0,    0,\n",
              "            0,    0,    0,    0,    0,    0,    0,    0,    0,    0,    0,\n",
              "            0,    0,    0,    0,    0,    0,    0,    0,    0,    0,    0,\n",
              "            0,    0,    0,    0,    0,    0,    0,    0,    0,    0,    0,\n",
              "            0,    0,    0,    0,    0,    0,    0,    0,    0,    0,    0,\n",
              "            0,    0,    0,    0,    0,    0,    0,    0,    0,    0,    0,\n",
              "            0,    0,    0,    0,    0,    0,    0,    0,    0,    0,    0,\n",
              "            0,    0,    0,    0,    0,    0,    0,    0,    0,    0,    0,\n",
              "            0,    0,    0,    0,    0,    0,    0],\n",
              "        [ 101, 1045, 2572, 6551, 4527, 2007, 2023,  102,    0,    0,    0,\n",
              "            0,    0,    0,    0,    0,    0,    0,    0,    0,    0,    0,\n",
              "            0,    0,    0,    0,    0,    0,    0,    0,    0,    0,    0,\n",
              "            0,    0,    0,    0,    0,    0,    0,    0,    0,    0,    0,\n",
              "            0,    0,    0,    0,    0,    0,    0,    0,    0,    0,    0,\n",
              "            0,    0,    0,    0,    0,    0,    0,    0,    0,    0,    0,\n",
              "            0,    0,    0,    0,    0,    0,    0,    0,    0,    0,    0,\n",
              "            0,    0,    0,    0,    0,    0,    0,    0,    0,    0,    0,\n",
              "            0,    0,    0,    0,    0,    0,    0,    0,    0,    0,    0,\n",
              "            0,    0,    0,    0,    0,    0,    0,    0,    0,    0,    0,\n",
              "            0,    0,    0,    0,    0,    0,    0,    0,    0,    0,    0,\n",
              "            0,    0,    0,    0,    0,    0,    0]], dtype=int32)>}"
            ]
          },
          "metadata": {},
          "execution_count": 51
        }
      ]
    },
    {
      "cell_type": "code",
      "source": [
        "exCTextEncoding = bert_encoder(exCText)"
      ],
      "metadata": {
        "id": "DDgRmOeTX9w1"
      },
      "execution_count": null,
      "outputs": []
    },
    {
      "cell_type": "code",
      "source": [
        "exCTextEncoding['pooled_output'][0]"
      ],
      "metadata": {
        "colab": {
          "base_uri": "https://localhost:8080/"
        },
        "id": "V0uPbWr0YBSW",
        "outputId": "39ba1d68-aa18-4ce6-f419-3e7a2c290c1c"
      },
      "execution_count": null,
      "outputs": [
        {
          "output_type": "execute_result",
          "data": {
            "text/plain": [
              "<tf.Tensor: shape=(768,), dtype=float32, numpy=\n",
              "array([-0.833146  , -0.5324472 , -0.95144576,  0.7921877 ,  0.7292997 ,\n",
              "        0.00420745,  0.83142996,  0.44103655, -0.86873215, -0.9999897 ,\n",
              "       -0.6529997 ,  0.9535145 ,  0.97474295,  0.7010773 ,  0.93145645,\n",
              "       -0.70910925, -0.15771134, -0.69583637,  0.37727782, -0.1085068 ,\n",
              "        0.71599936,  0.99999577, -0.22883746,  0.52148193,  0.53327197,\n",
              "        0.9898946 , -0.768633  ,  0.9062218 ,  0.95468456,  0.7544818 ,\n",
              "       -0.6458205 ,  0.3281772 , -0.9905174 , -0.30328676, -0.95043474,\n",
              "       -0.98963016,  0.55633235, -0.5847217 , -0.03745032, -0.045454  ,\n",
              "       -0.9131377 ,  0.4559372 ,  0.9999792 , -0.06379917,  0.518642  ,\n",
              "       -0.39703533, -1.        ,  0.41722488, -0.809119  ,  0.9638133 ,\n",
              "        0.9245175 ,  0.92782336,  0.23110868,  0.5200376 ,  0.5406308 ,\n",
              "       -0.30294824, -0.1493521 ,  0.22565417, -0.2589997 , -0.60437995,\n",
              "       -0.66821015,  0.4303673 , -0.90034467, -0.847246  ,  0.91263986,\n",
              "        0.81466866, -0.37237847, -0.40662527, -0.03642486,  0.04377365,\n",
              "        0.8249581 ,  0.23033515, -0.5867283 , -0.8386934 ,  0.7498521 ,\n",
              "        0.3522323 , -0.74960524,  1.        , -0.30447072, -0.9725212 ,\n",
              "        0.90476733,  0.8192805 ,  0.715213  , -0.48373514,  0.46570653,\n",
              "       -1.        ,  0.5709781 , -0.16881454, -0.9875637 ,  0.487219  ,\n",
              "        0.7208461 , -0.36461875,  0.8189593 ,  0.7339865 , -0.6288751 ,\n",
              "       -0.63148075, -0.52606   , -0.8749401 , -0.4334803 , -0.4073726 ,\n",
              "        0.22908346, -0.48210827, -0.43357807, -0.38198832,  0.479365  ,\n",
              "       -0.6479043 , -0.37915033,  0.7146698 ,  0.4158275 ,  0.71283275,\n",
              "        0.61988336, -0.56140065,  0.4568549 , -0.93296665,  0.68115306,\n",
              "       -0.46268657, -0.9865264 , -0.7442127 , -0.9882389 ,  0.6578108 ,\n",
              "       -0.4832097 , -0.20724504,  0.9507236 , -0.5947686 ,  0.573501  ,\n",
              "       -0.29698566, -0.95342505, -1.        , -0.6992164 , -0.7033204 ,\n",
              "       -0.2595457 , -0.5043217 , -0.97096705, -0.96532   ,  0.6483924 ,\n",
              "        0.95048344,  0.3229542 ,  0.9999601 , -0.5444139 ,  0.9389863 ,\n",
              "       -0.6507316 , -0.6121881 ,  0.8306961 , -0.6275643 ,  0.79549605,\n",
              "        0.06201349, -0.506446  ,  0.35089445, -0.46253535,  0.545748  ,\n",
              "       -0.78066045, -0.3593469 , -0.8851427 , -0.9169436 , -0.43636307,\n",
              "        0.9291708 , -0.6690208 , -0.9396445 , -0.19749105, -0.35984218,\n",
              "       -0.56501114,  0.81018555,  0.6186906 ,  0.4654474 , -0.39826113,\n",
              "        0.5796272 ,  0.21404108,  0.6205083 , -0.82184356, -0.373435  ,\n",
              "        0.38392642, -0.39711097, -0.9398552 , -0.97542363, -0.47979695,\n",
              "        0.48916903,  0.9911002 ,  0.8000505 ,  0.46222973,  0.88460153,\n",
              "       -0.40436932,  0.8161244 , -0.95634896,  0.98272794, -0.24233586,\n",
              "        0.4566282 , -0.85943955,  0.47640264, -0.85948575,  0.50238967,\n",
              "        0.77166736, -0.86248595, -0.7195592 , -0.2238734 , -0.5291083 ,\n",
              "       -0.44103336, -0.914377  ,  0.38349438, -0.3332323 , -0.60184026,\n",
              "       -0.3046337 ,  0.93507886,  0.9454024 ,  0.7248956 ,  0.5045086 ,\n",
              "        0.5418244 , -0.9084744 , -0.5825114 ,  0.21011935,  0.2841885 ,\n",
              "        0.17947781,  0.99189544, -0.7713853 , -0.17903562, -0.92871267,\n",
              "       -0.9814053 , -0.07492237, -0.8792336 , -0.17727524, -0.6893956 ,\n",
              "        0.77792245, -0.6013536 ,  0.590413  ,  0.49557438, -0.96679515,\n",
              "       -0.7490948 ,  0.5149723 , -0.5622153 ,  0.4939094 , -0.41030663,\n",
              "        0.91902214,  0.9687421 , -0.6682854 ,  0.2105028 ,  0.91525245,\n",
              "       -0.9534954 , -0.79832125,  0.69297385, -0.35655597,  0.81350225,\n",
              "       -0.7848297 ,  0.9859938 ,  0.91467124,  0.6562821 , -0.8932104 ,\n",
              "       -0.84663767, -0.7440443 , -0.73975205, -0.22543317,  0.29119608,\n",
              "        0.9151652 ,  0.8006862 ,  0.40698177,  0.2715689 , -0.58440745,\n",
              "        0.9894974 , -0.9374228 , -0.95370626, -0.80204046, -0.44040796,\n",
              "       -0.98616153,  0.9362015 ,  0.37592027,  0.71529126, -0.53346777,\n",
              "       -0.72982544, -0.9570473 ,  0.8045638 ,  0.19860101,  0.9738864 ,\n",
              "       -0.35180303, -0.83446366, -0.6890355 , -0.92505544,  0.02019725,\n",
              "       -0.3025074 , -0.6222377 , -0.02640085, -0.9550155 ,  0.56020415,\n",
              "        0.62756133,  0.6455062 , -0.8717005 ,  0.99741715,  1.        ,\n",
              "        0.9739952 ,  0.82624274,  0.8144414 , -0.9999512 , -0.7929769 ,\n",
              "        0.99999666, -0.991197  , -1.        , -0.8869652 , -0.7104025 ,\n",
              "        0.56471574, -1.        , -0.2562701 , -0.19934216, -0.8820431 ,\n",
              "        0.73313296,  0.9521122 ,  0.970955  , -1.        ,  0.797659  ,\n",
              "        0.92461556, -0.7712049 ,  0.9691777 , -0.5726102 ,  0.9623502 ,\n",
              "        0.70319927,  0.5201977 , -0.37097594,  0.5374067 , -0.95664084,\n",
              "       -0.83231884, -0.77017957, -0.7643607 ,  0.9993198 ,  0.19904956,\n",
              "       -0.69383824, -0.8906938 ,  0.56499   , -0.23371643,  0.04934215,\n",
              "       -0.9671072 , -0.24646737,  0.6407729 ,  0.8613223 ,  0.23812787,\n",
              "        0.47782314, -0.62093407,  0.38181683,  0.21685667,  0.06306724,\n",
              "        0.78741634, -0.9261835 , -0.54201764, -0.21975794,  0.05911976,\n",
              "       -0.7819858 , -0.95787597,  0.9378405 , -0.5974458 ,  0.86318266,\n",
              "        1.        ,  0.6291826 , -0.81231356,  0.657552  ,  0.4306188 ,\n",
              "       -0.8633618 ,  1.        ,  0.83267766, -0.9703291 , -0.7045453 ,\n",
              "        0.72469354, -0.64302105, -0.72106415,  0.9993871 , -0.3444928 ,\n",
              "       -0.8239551 , -0.63148826,  0.97798437, -0.98756015,  0.9982682 ,\n",
              "       -0.8639422 , -0.97256684,  0.9593991 ,  0.94260347, -0.3900252 ,\n",
              "       -0.7074019 ,  0.18162759, -0.7792594 ,  0.44498813, -0.86772615,\n",
              "        0.7345667 ,  0.47445872, -0.08491169,  0.8592042 , -0.7156528 ,\n",
              "       -0.7304261 ,  0.35520715, -0.5612118 , -0.31692216,  0.9635017 ,\n",
              "        0.58523583, -0.37386376, -0.04473019, -0.38442895, -0.8637673 ,\n",
              "       -0.96279055,  0.59788364,  1.        , -0.584818  ,  0.9005737 ,\n",
              "       -0.5574927 , -0.08385972,  0.1853335 ,  0.6305086 ,  0.6546899 ,\n",
              "       -0.4974445 , -0.8793951 ,  0.8971396 , -0.9282141 , -0.98881996,\n",
              "        0.7361047 ,  0.28467622, -0.3025454 ,  0.9999956 ,  0.50919694,\n",
              "        0.28812492,  0.44398293,  0.98509973, -0.094     ,  0.23966852,\n",
              "        0.89401436,  0.9821156 , -0.28172705,  0.7300857 ,  0.67933255,\n",
              "       -0.92578346, -0.38198236, -0.6915809 ,  0.10518032, -0.94603443,\n",
              "        0.07863061, -0.92541903,  0.9574466 ,  0.8878146 ,  0.5129153 ,\n",
              "        0.38624114,  0.89634967,  1.        , -0.952903  ,  0.47981533,\n",
              "        0.42978007,  0.6142199 , -0.9999339 , -0.67093813, -0.52855283,\n",
              "       -0.00133916, -0.9120932 , -0.505262  ,  0.3130445 , -0.95538515,\n",
              "        0.8757904 ,  0.7647602 , -0.9672696 , -0.97969437, -0.48040348,\n",
              "        0.7097873 ,  0.23686017, -0.99274486, -0.63807684, -0.50459343,\n",
              "        0.8455452 , -0.4886149 , -0.92530686, -0.32787567, -0.42795047,\n",
              "        0.44774425, -0.40983307,  0.74297994,  0.87947816,  0.6822686 ,\n",
              "       -0.78302974, -0.32144293, -0.15832466, -0.7150122 ,  0.7690376 ,\n",
              "       -0.719073  , -0.9753929 , -0.27266446,  1.        , -0.51185334,\n",
              "        0.9309021 ,  0.71853495,  0.48488933, -0.33504528,  0.35904104,\n",
              "        0.9372762 ,  0.38339666, -0.7890803 , -0.9378259 ,  0.20577504,\n",
              "       -0.5011454 ,  0.5351993 ,  0.7201126 ,  0.80083644,  0.85297817,\n",
              "        0.8459575 ,  0.12570512, -0.12964666,  0.11301432,  0.9980683 ,\n",
              "       -0.1759683 , -0.32844853, -0.32807434, -0.23826765, -0.48872444,\n",
              "        0.29078585,  1.        ,  0.38321617,  0.58153194, -0.98792607,\n",
              "       -0.9115892 , -0.9144331 ,  1.        ,  0.7998663 , -0.6549519 ,\n",
              "        0.73410577,  0.66169506, -0.12650415,  0.62068075, -0.27826604,\n",
              "       -0.50764704,  0.40662926,  0.24727096,  0.94919306, -0.68292993,\n",
              "       -0.96871245, -0.54697585,  0.58969927, -0.950668  ,  0.99998176,\n",
              "       -0.6565664 , -0.37569517, -0.35582045, -0.5699746 , -0.5594408 ,\n",
              "        0.06261922, -0.97029525, -0.31357294,  0.2931015 ,  0.94126093,\n",
              "        0.34759745, -0.7345082 , -0.8368122 ,  0.8680456 ,  0.7856745 ,\n",
              "       -0.954663  , -0.945075  ,  0.95545447, -0.9670828 ,  0.7447194 ,\n",
              "        1.        ,  0.44854444,  0.3896627 ,  0.37829292, -0.5163727 ,\n",
              "        0.5228138 , -0.22899655,  0.55929255, -0.9376764 , -0.41972026,\n",
              "       -0.3378572 ,  0.36629385, -0.34708062, -0.53799766,  0.6627206 ,\n",
              "        0.17366819, -0.6600789 , -0.7480849 , -0.14678617,  0.52870923,\n",
              "        0.8075499 , -0.34097314, -0.1710369 ,  0.20571792, -0.14114515,\n",
              "       -0.9128077 , -0.39909774, -0.53767705, -0.9999987 ,  0.5768968 ,\n",
              "       -1.        ,  0.6365149 ,  0.33395177, -0.32748052,  0.8132579 ,\n",
              "        0.69680005,  0.72543126, -0.7794693 , -0.902551  ,  0.18389423,\n",
              "        0.7391137 , -0.26553312, -0.5482266 , -0.66066885,  0.42197978,\n",
              "       -0.2177824 ,  0.42287663, -0.7383395 ,  0.73349315, -0.39407474,\n",
              "        1.        ,  0.18225218, -0.58090365, -0.9542703 ,  0.23792629,\n",
              "       -0.29576966,  1.        , -0.7305138 , -0.938079  ,  0.63901997,\n",
              "       -0.67704666, -0.8036374 ,  0.51920456, -0.04613538, -0.7461519 ,\n",
              "       -0.95297384,  0.917606  ,  0.50125194, -0.73347175,  0.6324483 ,\n",
              "       -0.37764567, -0.54509664,  0.12251363,  0.88823974,  0.9851191 ,\n",
              "        0.74640304,  0.8004566 , -0.37567663, -0.4368985 ,  0.96108913,\n",
              "        0.22747488,  0.1267673 ,  0.27967575,  1.        ,  0.40754828,\n",
              "       -0.9175104 , -0.03529051, -0.9658321 , -0.31096143, -0.8807598 ,\n",
              "        0.4423725 ,  0.45881113,  0.90703535, -0.43094596,  0.93634456,\n",
              "       -0.91987115,  0.07259475, -0.6089298 , -0.6539608 ,  0.4366335 ,\n",
              "       -0.91058505, -0.98158413, -0.97858286,  0.71024173, -0.4731677 ,\n",
              "       -0.06347188,  0.35875335,  0.11003172,  0.5146974 ,  0.51498777,\n",
              "       -1.        ,  0.90282106,  0.55990076,  0.917041  ,  0.9597196 ,\n",
              "        0.81052727,  0.64340204,  0.46296197, -0.97993356, -0.9588089 ,\n",
              "       -0.42247662, -0.34256554,  0.7967874 ,  0.75790745,  0.88461673,\n",
              "        0.56586915, -0.5633432 , -0.58061516, -0.87094724, -0.8705259 ,\n",
              "       -0.99108493,  0.6002971 , -0.72598773, -0.80728513,  0.96352285,\n",
              "       -0.09484903, -0.22113386, -0.1834413 , -0.9041467 ,  0.7875706 ,\n",
              "        0.76439947,  0.19619401,  0.18870048,  0.5019617 ,  0.79406726,\n",
              "        0.9038005 ,  0.9760499 , -0.8916543 ,  0.52739805, -0.8257301 ,\n",
              "        0.61918646,  0.90763354, -0.9057687 ,  0.23104666,  0.59721196,\n",
              "       -0.42369092,  0.31519455, -0.33238   , -0.9111413 ,  0.819551  ,\n",
              "       -0.32882312,  0.6536527 , -0.539375  , -0.07927933, -0.53073114,\n",
              "       -0.35373852, -0.70559794, -0.76139224,  0.7507005 ,  0.12034736,\n",
              "        0.79748154,  0.9323487 , -0.0798444 , -0.710064  , -0.21833369,\n",
              "       -0.829895  , -0.93112415,  0.8634297 , -0.06191282, -0.38899326,\n",
              "        0.6684583 ,  0.09651226,  0.9843442 ,  0.468356  , -0.4361287 ,\n",
              "       -0.31901625, -0.7389207 ,  0.8462073 , -0.5730555 , -0.6793164 ,\n",
              "       -0.71524644,  0.8103914 ,  0.35784227,  0.9999974 , -0.8379549 ,\n",
              "       -0.93498737, -0.46855694, -0.5487382 ,  0.49731228, -0.58125496,\n",
              "       -1.        ,  0.46020952, -0.72102356,  0.85063845, -0.83827406,\n",
              "        0.8829696 , -0.6478229 , -0.962437  , -0.5088057 ,  0.56239593,\n",
              "        0.7918718 , -0.5524346 , -0.6208885 ,  0.6789028 , -0.5906221 ,\n",
              "        0.9887457 ,  0.80319715, -0.25596   ,  0.18962269,  0.8008268 ,\n",
              "       -0.872466  , -0.78250915,  0.87922627], dtype=float32)>"
            ]
          },
          "metadata": {},
          "execution_count": 53
        }
      ]
    },
    {
      "cell_type": "code",
      "source": [
        "from sklearn.model_selection import train_test_split\n",
        "\n",
        "X_train, X_test, y_train, y_test = train_test_split(df['claim'],df['verdict'], stratify=df['verdict'])"
      ],
      "metadata": {
        "id": "hipPWZESYEk8"
      },
      "execution_count": null,
      "outputs": []
    },
    {
      "cell_type": "code",
      "source": [
        "X_train.head()"
      ],
      "metadata": {
        "colab": {
          "base_uri": "https://localhost:8080/"
        },
        "id": "6LwK1Y9ibZ_S",
        "outputId": "3011be52-2e80-47ad-b1b1-78d03e046185"
      },
      "execution_count": null,
      "outputs": [
        {
          "output_type": "execute_result",
          "data": {
            "text/plain": [
              "2617                                          drew manual\n",
              "1054    would hope one thing could president recognize...\n",
              "2680    american conference inter american conference ...\n",
              "4437                                     surprised extent\n",
              "2207                        kill bin laden crush al qaida\n",
              "Name: claim, dtype: object"
            ]
          },
          "metadata": {},
          "execution_count": 55
        }
      ]
    },
    {
      "cell_type": "code",
      "source": [
        "import tensorflow as tf\n",
        "\n",
        "input = tf.keras.layers.Input(shape=(), dtype=tf.string, name='text')\n",
        "\n",
        "# BERT Preprocess and Encoder \n",
        "processed = bert_preprocess(input)\n",
        "output = bert_encoder(processed)\n",
        "\n",
        "part = tf.keras.layers.Dropout(0.2, name='dropout')(output['pooled_output'])\n",
        "part = tf.keras.layers.Dense(12,activation='relu', name='hidden')(part)\n",
        "part = tf.keras.layers.Dense(1,activation='sigmoid', name='output')(part)\n",
        "\n",
        "model = tf.keras.Model(inputs=[input],outputs=[part])"
      ],
      "metadata": {
        "id": "CzslEIdfYK_t"
      },
      "execution_count": null,
      "outputs": []
    },
    {
      "cell_type": "code",
      "source": [
        "METRICS = [\n",
        "      tf.keras.metrics.BinaryAccuracy(name='accuracy'),\n",
        "      tf.keras.metrics.Precision(name='precision'),\n",
        "      tf.keras.metrics.Recall(name='recall')\n",
        "]\n",
        "\n",
        "model.compile(optimizer='adam',loss='binary_crossentropy',metrics=METRICS)"
      ],
      "metadata": {
        "id": "aE4bx_PWYFDV"
      },
      "execution_count": null,
      "outputs": []
    },
    {
      "cell_type": "code",
      "source": [
        "model.summary()"
      ],
      "metadata": {
        "colab": {
          "base_uri": "https://localhost:8080/"
        },
        "id": "pxM-Yjlxb3jo",
        "outputId": "b6cc3839-ea6b-4680-9883-0899c4c4aca0"
      },
      "execution_count": null,
      "outputs": [
        {
          "output_type": "stream",
          "name": "stdout",
          "text": [
            "Model: \"model_1\"\n",
            "__________________________________________________________________________________________________\n",
            " Layer (type)                   Output Shape         Param #     Connected to                     \n",
            "==================================================================================================\n",
            " text (InputLayer)              [(None,)]            0           []                               \n",
            "                                                                                                  \n",
            " keras_layer_2 (KerasLayer)     {'input_mask': (Non  0           ['text[0][0]']                   \n",
            "                                e, 128),                                                          \n",
            "                                 'input_type_ids':                                                \n",
            "                                (None, 128),                                                      \n",
            "                                 'input_word_ids':                                                \n",
            "                                (None, 128)}                                                      \n",
            "                                                                                                  \n",
            " keras_layer_3 (KerasLayer)     {'pooled_output': (  109482241   ['keras_layer_2[0][0]',          \n",
            "                                None, 768),                       'keras_layer_2[0][1]',          \n",
            "                                 'encoder_outputs':               'keras_layer_2[0][2]']          \n",
            "                                 [(None, 128, 768),                                               \n",
            "                                 (None, 128, 768),                                                \n",
            "                                 (None, 128, 768),                                                \n",
            "                                 (None, 128, 768),                                                \n",
            "                                 (None, 128, 768),                                                \n",
            "                                 (None, 128, 768),                                                \n",
            "                                 (None, 128, 768),                                                \n",
            "                                 (None, 128, 768),                                                \n",
            "                                 (None, 128, 768),                                                \n",
            "                                 (None, 128, 768),                                                \n",
            "                                 (None, 128, 768),                                                \n",
            "                                 (None, 128, 768)],                                               \n",
            "                                 'default': (None,                                                \n",
            "                                768),                                                             \n",
            "                                 'sequence_output':                                               \n",
            "                                 (None, 128, 768)}                                                \n",
            "                                                                                                  \n",
            " dropout (Dropout)              (None, 768)          0           ['keras_layer_3[0][13]']         \n",
            "                                                                                                  \n",
            " hidden (Dense)                 (None, 12)           9228        ['dropout[0][0]']                \n",
            "                                                                                                  \n",
            " output (Dense)                 (None, 1)            13          ['hidden[0][0]']                 \n",
            "                                                                                                  \n",
            "==================================================================================================\n",
            "Total params: 109,491,482\n",
            "Trainable params: 9,241\n",
            "Non-trainable params: 109,482,241\n",
            "__________________________________________________________________________________________________\n"
          ]
        }
      ]
    },
    {
      "cell_type": "code",
      "source": [
        "len(X_train)"
      ],
      "metadata": {
        "colab": {
          "base_uri": "https://localhost:8080/"
        },
        "id": "mP-TuYNjb66w",
        "outputId": "cf519a26-f3ab-43ad-e690-72a5c755dbfd"
      },
      "execution_count": null,
      "outputs": [
        {
          "output_type": "execute_result",
          "data": {
            "text/plain": [
              "3699"
            ]
          },
          "metadata": {},
          "execution_count": 64
        }
      ]
    },
    {
      "cell_type": "code",
      "source": [
        "import numpy as np\n",
        "X_train = np.array([np.array(val) for val in X_train])\n",
        "X_test = np.array([np.array(val) for val in X_test])"
      ],
      "metadata": {
        "id": "AXm6NxercaY5"
      },
      "execution_count": null,
      "outputs": []
    },
    {
      "cell_type": "code",
      "source": [
        "history = model.fit(X_train, y_train, epochs=10)"
      ],
      "metadata": {
        "colab": {
          "base_uri": "https://localhost:8080/"
        },
        "id": "iiGXKoowYYFQ",
        "outputId": "5d5dc219-e0e5-4dc0-d43b-1e25c8562190"
      },
      "execution_count": null,
      "outputs": [
        {
          "output_type": "stream",
          "name": "stdout",
          "text": [
            "Epoch 1/10\n",
            "116/116 [==============================] - 45s 357ms/step - loss: 0.6910 - accuracy: 0.5461 - precision: 0.5455 - recall: 0.5516\n",
            "Epoch 2/10\n",
            "116/116 [==============================] - 40s 346ms/step - loss: 0.6605 - accuracy: 0.6045 - precision: 0.6043 - recall: 0.6047\n",
            "Epoch 3/10\n",
            "116/116 [==============================] - 41s 355ms/step - loss: 0.6295 - accuracy: 0.6531 - precision: 0.6509 - recall: 0.6604\n",
            "Epoch 4/10\n",
            "116/116 [==============================] - 40s 347ms/step - loss: 0.6110 - accuracy: 0.6713 - precision: 0.6730 - recall: 0.6658\n",
            "Epoch 5/10\n",
            "116/116 [==============================] - 41s 350ms/step - loss: 0.5998 - accuracy: 0.6772 - precision: 0.6737 - recall: 0.6869\n",
            "Epoch 6/10\n",
            "116/116 [==============================] - 41s 353ms/step - loss: 0.5908 - accuracy: 0.6856 - precision: 0.6807 - recall: 0.6988\n",
            "Epoch 7/10\n",
            "116/116 [==============================] - 41s 352ms/step - loss: 0.5828 - accuracy: 0.6875 - precision: 0.6856 - recall: 0.6923\n",
            "Epoch 8/10\n",
            "116/116 [==============================] - 42s 360ms/step - loss: 0.5719 - accuracy: 0.7021 - precision: 0.6992 - recall: 0.7090\n",
            "Epoch 9/10\n",
            "116/116 [==============================] - 41s 354ms/step - loss: 0.5746 - accuracy: 0.6991 - precision: 0.6964 - recall: 0.7058\n",
            "Epoch 10/10\n",
            "116/116 [==============================] - 42s 358ms/step - loss: 0.5704 - accuracy: 0.6951 - precision: 0.6919 - recall: 0.7031\n"
          ]
        }
      ]
    },
    {
      "cell_type": "code",
      "source": [
        "model.evaluate(X_test, y_test)"
      ],
      "metadata": {
        "colab": {
          "base_uri": "https://localhost:8080/"
        },
        "id": "OF2Th5TIf5F7",
        "outputId": "622b5018-5985-482e-cb3a-178af644d677"
      },
      "execution_count": null,
      "outputs": [
        {
          "output_type": "stream",
          "name": "stdout",
          "text": [
            "39/39 [==============================] - 14s 347ms/step - loss: 0.5535 - accuracy: 0.7234 - precision: 0.7594 - recall: 0.6548\n"
          ]
        },
        {
          "output_type": "execute_result",
          "data": {
            "text/plain": [
              "[0.5534830093383789,\n",
              " 0.7234387397766113,\n",
              " 0.7593985199928284,\n",
              " 0.6547812223434448]"
            ]
          },
          "metadata": {},
          "execution_count": 67
        }
      ]
    },
    {
      "cell_type": "code",
      "source": [
        "y_predicted = model.predict(X_test)\n",
        "y_predicted = y_predicted.flatten()"
      ],
      "metadata": {
        "colab": {
          "base_uri": "https://localhost:8080/"
        },
        "id": "_SOG6pdsgFgz",
        "outputId": "0dda94cc-07ea-41f4-90c9-4d583469dcbf"
      },
      "execution_count": null,
      "outputs": [
        {
          "output_type": "stream",
          "name": "stdout",
          "text": [
            "39/39 [==============================] - 14s 357ms/step\n"
          ]
        }
      ]
    },
    {
      "cell_type": "code",
      "source": [
        "import numpy as np\n",
        "\n",
        "y_predicted = np.where(y_predicted > 0.5, 1, 0)\n",
        "y_predicted"
      ],
      "metadata": {
        "colab": {
          "base_uri": "https://localhost:8080/"
        },
        "id": "0Y0aEO9IgRnG",
        "outputId": "4557fe08-a089-4c16-b519-9f2e3ca539aa"
      },
      "execution_count": null,
      "outputs": [
        {
          "output_type": "execute_result",
          "data": {
            "text/plain": [
              "array([0, 0, 0, ..., 1, 1, 0])"
            ]
          },
          "metadata": {},
          "execution_count": 69
        }
      ]
    },
    {
      "cell_type": "code",
      "source": [
        "from sklearn.metrics import confusion_matrix, classification_report\n",
        "\n",
        "cm = confusion_matrix(y_test, y_predicted)\n",
        "cm "
      ],
      "metadata": {
        "colab": {
          "base_uri": "https://localhost:8080/"
        },
        "id": "VZxuz-mmgWtv",
        "outputId": "3f6ac010-b672-480e-b3d3-b5876005e97a"
      },
      "execution_count": null,
      "outputs": [
        {
          "output_type": "execute_result",
          "data": {
            "text/plain": [
              "array([[488, 128],\n",
              "       [213, 404]])"
            ]
          },
          "metadata": {},
          "execution_count": 70
        }
      ]
    },
    {
      "cell_type": "code",
      "source": [
        "from matplotlib import pyplot as plt\n",
        "import seaborn as sn\n",
        "sn.heatmap(cm, annot=True, fmt='d')\n",
        "plt.xlabel('Predicted')\n",
        "plt.ylabel('Truth')"
      ],
      "metadata": {
        "colab": {
          "base_uri": "https://localhost:8080/",
          "height": 466
        },
        "id": "bZBxivE5gaut",
        "outputId": "553eb89f-15d8-40b6-bd58-81f515b00077"
      },
      "execution_count": null,
      "outputs": [
        {
          "output_type": "execute_result",
          "data": {
            "text/plain": [
              "Text(50.722222222222214, 0.5, 'Truth')"
            ]
          },
          "metadata": {},
          "execution_count": 71
        },
        {
          "output_type": "display_data",
          "data": {
            "text/plain": [
              "<Figure size 640x480 with 2 Axes>"
            ],
            "image/png": "[encoded data removed]"
          },
          "metadata": {}
        }
      ]
    },
    {
      "cell_type": "code",
      "source": [
        "print(classification_report(y_test, y_predicted))\n"
      ],
      "metadata": {
        "colab": {
          "base_uri": "https://localhost:8080/"
        },
        "id": "F9AjHyH2gdgs",
        "outputId": "11b8ecef-8c1b-4397-e12d-29fe2ffe675a"
      },
      "execution_count": null,
      "outputs": [
        {
          "output_type": "stream",
          "name": "stdout",
          "text": [
            "              precision    recall  f1-score   support\n",
            "\n",
            "           0       0.70      0.79      0.74       616\n",
            "           1       0.76      0.65      0.70       617\n",
            "\n",
            "    accuracy                           0.72      1233\n",
            "   macro avg       0.73      0.72      0.72      1233\n",
            "weighted avg       0.73      0.72      0.72      1233\n",
            "\n"
          ]
        }
      ]
    },
    {
      "cell_type": "code",
      "source": [
        "from matplotlib import pyplot as plt\n",
        "\n",
        "plt.plot(history.history['accuracy'])\n",
        "plt.plot(history.history['precision'])\n",
        "plt.plot(history.history['recall'])\n",
        "plt.title('model accuracy')\n",
        "plt.ylabel('accuracy')\n",
        "plt.xlabel('epoch')\n",
        "plt.legend(['train', 'val'], loc='upper left')\n",
        "plt.show()"
      ],
      "metadata": {
        "colab": {
          "base_uri": "https://localhost:8080/",
          "height": 472
        },
        "id": "CvDVpOoMg3FH",
        "outputId": "deb1eefa-a844-46b2-c3b6-e9522316772b"
      },
      "execution_count": null,
      "outputs": [
        {
          "output_type": "display_data",
          "data": {
            "text/plain": [
              "<Figure size 640x480 with 1 Axes>"
            ],
            "image/png": "[encoded data removed]"
          },
          "metadata": {}
        }
      ]
    }
  ]
}